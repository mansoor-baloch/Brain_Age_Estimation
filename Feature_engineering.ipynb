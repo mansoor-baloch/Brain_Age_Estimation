{
 "cells": [
  {
   "cell_type": "code",
   "execution_count": null,
   "metadata": {},
   "outputs": [],
   "source": []
  },
  {
   "cell_type": "code",
   "execution_count": null,
   "metadata": {},
   "outputs": [],
   "source": [
    "from argparse import Namespace\n",
    "\n",
    "import matplotlib.pyplot as plt\n",
    "import nibabel as nib\n",
    "import numpy as np\n",
    "import pandas as pd\n",
    "import seaborn as sns\n",
    "# import torch\n",
    "# from torch import Tensor\n",
    "# from tqdm import tqdm\n",
    "import os\n",
    "import io\n",
    "import glob\n",
    "import sklearn\n",
    "import nilearn as nl\n",
    "from sklearn.manifold import TSNE\n",
    "from nilearn.masking import apply_mask\n",
    "from nilearn.image import index_img\n",
    "import re\n",
    "from nilearn import masking\n",
    "from nilearn.input_data import NiftiMasker\n",
    "from sklearn.cluster import KMeans\n",
    "from csv import writer\n",
    "from csv import reader \n",
    "from scipy.spatial import distance_matrix\n",
    "from numpy import genfromtxt\n",
    "import dask.dataframe as dd\n",
    "import dask.array as da\n",
    "from scipy.spatial import distance\n",
    "import gc\n",
    "from scipy.spatial.distance import cdist\n",
    "from dask import compute, delayed\n",
    "import dask\n",
    "import  dask_ml\n",
    "from sklearn.decomposition import PCA\n",
    "from sklearn.preprocessing import StandardScaler\n",
    "from sklearn.kernel_approximation import RBFSampler\n",
    "from sklearn import random_projection\n",
    "from sklearn.random_projection import johnson_lindenstrauss_min_dim"
   ]
  },
  {
   "attachments": {},
   "cell_type": "markdown",
   "metadata": {},
   "source": [
    "Matrix transformation"
   ]
  },
  {
   "cell_type": "code",
   "execution_count": null,
   "metadata": {},
   "outputs": [],
   "source": [
    "\n",
    "\n",
    "file= open(\"/media/dataanalyticlab/Drive2/MANSOOR/Dataset/OpenBHB/Validation_set/val_set_openbhb.csv\")\n",
    "X_val_set = np.loadtxt(file, delimiter=\",\", usecols=np.arange(1,3659573))\n",
    "\n",
    "roi_train = pd.read_csv(\"/media/dataanalyticlab/Drive2/MANSOOR/Dataset/OpenBHB/openbhb_train_roi_dataset.csv\", header=None, usecols=np.arange(1,1797))\n",
    "\n",
    "######## RBF sampler (random Fourier features)   #####################\n",
    "\n",
    "# rbf_feature = RBFSampler(gamma=1, n_components=500)\n",
    "# rbf_feature.fit(X_val_set)\n",
    "# X_val_reduced = rbf_feature.transform(X_val_set)\n",
    "# X_val_reduced = pd.DataFrame(X_val_reduced)\n",
    "# X_val_reduced.to_csv(\"/media/dataanalyticlab/Drive2/MANSOOR/Dataset/OpenBHB/Validation_set/reduced_kernel_trick_openbhb_val_set_500_components.csv\")\n",
    "\n",
    "# X_val_reduced.to_numpy(\"/media/dataanalyticlab/Drive2/MANSOOR/Dataset/OpenBHB/Validation_set/reduced_kernel_trick_openbhb_val_set_500_components.npy\")\n",
    "\n",
    "#########  PCA-based transformations #######################\n",
    "\n",
    "# data scaling\n",
    "# X_val_scaled = StandardScaler().fit_transform(X_val_set)\n",
    "# print(\"Matrix scaled\")\n",
    "# del X_val_set\n",
    "# gc.collect()\n",
    "\n",
    "pca = PCA(n_components=500)\n",
    " \n",
    "X_val_pca_features = pca.fit_transform(X_val_scaled)\n",
    "X_val_pca_features.to_csv(\"/media/dataanalyticlab/Drive2/MANSOOR/Dataset/OpenBHB/Reduced_matrices_openbhb/reduced_pca_openbhb_val_set_1000_components.csv\")\n",
    "\n",
    "\n",
    "########### JL transform #################\n",
    "\n",
    "ROI_features = np.array(roi_train)\n",
    "n = len(ROI_features)\n",
    "# calculate mininimum number of random projection required by JL\n",
    "min_dim = johnson_lindenstrauss_min_dim(n_samples=n, eps=0.1)\n",
    "##### min_dim = 1379\n",
    "# perform random projection\n",
    "transformer = random_projection.GaussianRandomProjection(n_components=min_dim)\n",
    "JL_transformed_roi_data = transformer.fit_transform(ROI_features)\n",
    "print(\"Shape After Transformation: \",JL_transformed_roi_data.shape)\n",
    "#print(\"Data transformed, now saving reduced data!!!\")\n",
    "np.save(\"/media/dataanalyticlab/Drive2/MANSOOR/Dataset/OpenBHB/Reduced_matrices_openbhb/ROI_JL_transformed_openbhb_train.npy\", JL_transformed_roi_data)\n",
    "\n"
   ]
  },
  {
   "attachments": {},
   "cell_type": "markdown",
   "metadata": {},
   "source": [
    "Compute distance and covariance matrices"
   ]
  },
  {
   "cell_type": "code",
   "execution_count": null,
   "metadata": {},
   "outputs": [],
   "source": [
    "euc_dist_mat_3209x3209 = np.zeros((3209,3209))\n",
    "cos_dist_mat_3209x3209 = np.zeros((3209,3209))\n",
    "cov_mat_3209x3209 = np.zeros((3209,3209))\n"
   ]
  },
  {
   "cell_type": "code",
   "execution_count": null,
   "metadata": {},
   "outputs": [],
   "source": [
    "no_of_blocks = 13\n",
    "rows = 250\n",
    "skip_rows = 0\n",
    "chunks = 10"
   ]
  },
  {
   "cell_type": "code",
   "execution_count": null,
   "metadata": {},
   "outputs": [],
   "source": [
    "for i in range(6,no_of_blocks):\n",
    "    rows = 250\n",
    "    chunks = 10\n",
    "    skip_rows = rows * i\n",
    "    low_limit = rows * i\n",
    "    if i==12:\n",
    "        chunks=11\n",
    "        rows = 209\n",
    "        upper_limit = 209\n",
    "    file = open(file_name)\n",
    "    # load the ith diagonal data block\n",
    "    data_mat_block_i = np.loadtxt(file ,delimiter = \",\", usecols=np.arange(1,3659573), max_rows=rows, skiprows=skip_rows)\n",
    "    # compute and store the distances and covariance blocks at the diagonals\n",
    "    euc_dist_mat_3209x3209[low_limit:low_limit+rows, skip_rows:rows+skip_rows]= euclidean_dist_compute(data_mat_block_i, data_mat_block_i, chunks)\n",
    "    cos_dist_mat_3209x3209[low_limit:low_limit+rows, skip_rows:rows+skip_rows]= cosine_dist_compute(data_mat_block_i, data_mat_block_i, chunks)\n",
    "   \n",
    "    cov_mat_3209x3209[low_limit:low_limit+rows, skip_rows:rows+skip_rows] = np.cov(data_mat_block_i)\n",
    "    file.close()\n",
    "\n",
    "    for j in range(i+1,no_of_blocks): # loop till all upper triangular blocks are computed\n",
    "        skip_rows = skip_rows + rows\n",
    "        upper_limit = rows\n",
    "        if j==12:\n",
    "            rows = 209\n",
    "            chunks=11\n",
    "            upper_limit = 250\n",
    "        else:\n",
    "            rows=250\n",
    "            chunks=10\n",
    "        file = open(file_name)\n",
    "        data_mat_block_j = np.loadtxt(file ,delimiter = \",\", usecols=np.arange(1,3659573), max_rows=rows, skiprows=skip_rows)\n",
    "        file.close()\n",
    "        # compute and store the distances and covariance blocks in the upper triangle\n",
    "        euc_dist_mat_3209x3209[low_limit:low_limit+upper_limit, skip_rows:rows+skip_rows]= euclidean_dist_compute(data_mat_block_i, data_mat_block_j, chunks)\n",
    "        cos_dist_mat_3209x3209[low_limit:low_limit+upper_limit, skip_rows:rows+skip_rows]= cosine_dist_compute(data_mat_block_i, data_mat_block_j, chunks)\n",
    "        cov_mat_ij= np.cov(data_mat_block_i, data_mat_block_j)\n",
    "        cov_mat_3209x3209[low_limit:low_limit+upper_limit, skip_rows:rows+skip_rows] = cov_mat_ij[0:upper_limit, upper_limit:rows+upper_limit]\n",
    "        \n",
    "    np.savetxt(\"/media/dataanalyticlab/Drive2/MANSOOR/Dataset/Dist_Cov_Matrices_OpenBHB/Euclidean_Dist_Mat_OpenBHB.csv\", euc_dist_mat_3209x3209, delimiter=\",\")\n",
    "    np.savetxt(\"/media/dataanalyticlab/Drive2/MANSOOR/Dataset/Dist_Cov_Matrices_OpenBHB/Cosine_Dist_Mat_OpenBHB.csv\", cos_dist_mat_3209x3209, delimiter=\",\")\n",
    "    np.savetxt(\"/media/dataanalyticlab/Drive2/MANSOOR/Dataset/Dist_Cov_Matrices_OpenBHB/Covariance_Mat_OpenBHB.csv\", cov_mat_3209x3209, delimiter=\",\")     \n",
    "    \n"
   ]
  },
  {
   "cell_type": "code",
   "execution_count": null,
   "metadata": {},
   "outputs": [],
   "source": [
    "# read the computed upper triangluar matrix and save it in a full matrix\n",
    "def save_full_mat(r_filename, s_filename):\n",
    "    dist = pd.read_csv('/media/dataanalyticlab/Drive2/MANSOOR/Dataset/Dist_Cov_Matrices_OpenBHB/' +str(r_filename)+ '.csv', header=None)\n",
    "    u_tri_mat = np.triu(dist)\n",
    "    l_tri_mat = np.tril(u_tri_mat.transpose(), k=-1)\n",
    "    s_filename = u_tri_mat + l_tri_mat\n",
    "    np.savetxt(\"/media/dataanalyticlab/Drive2/MANSOOR/Dataset/Dist_Cov_Matrices_OpenBHB/\" + str(s_filename) + \".csv\", s_filename, delimiter=\",\")"
   ]
  },
  {
   "cell_type": "code",
   "execution_count": null,
   "metadata": {},
   "outputs": [],
   "source": [
    "def euclidean_dist_compute(x, y, chunks):\n",
    "    \"\"\"Implementation using array concatenation\"\"\"\n",
    "    values = [delayed(cdist)(x, xi, 'euclidean')\n",
    "              for xi in np.split(y, chunks)]\n",
    "    return np.concatenate(compute(*values, scheduler='threads'),\n",
    "                          axis=1)"
   ]
  },
  {
   "cell_type": "code",
   "execution_count": null,
   "metadata": {},
   "outputs": [],
   "source": [
    "def cosine_dist_compute(x, y, chunks):\n",
    "    \"\"\"Implementation using array concatenation\"\"\"\n",
    "    values = [delayed(cdist)(x, xi, 'cosine')\n",
    "              for xi in np.split(y, chunks)]\n",
    "    return np.concatenate(compute(*values, scheduler='threads'),\n",
    "                          axis=1)"
   ]
  },
  {
   "cell_type": "code",
   "execution_count": null,
   "metadata": {},
   "outputs": [],
   "source": [
    "def corr_mat_compute(x, y, chunks):\n",
    "    \"\"\"Implementation using array concatenation\"\"\"\n",
    "    values = [delayed(cdist)(x, xi, 'correlation')\n",
    "              for xi in np.split(y, chunks)]\n",
    "    return np.concatenate(compute(*values, scheduler='threads'),\n",
    "                          axis=1)"
   ]
  },
  {
   "cell_type": "code",
   "execution_count": null,
   "metadata": {},
   "outputs": [],
   "source": [
    "def cov_mat_compute(x, y, chunks):\n",
    "    \"\"\"Implementation using array concatenation\"\"\"\n",
    "    values = [delayed(np.cov)(x, y)]\n",
    "    return np.concatenate(compute(*values, scheduler='threads'),\n",
    "                          axis=1)"
   ]
  },
  {
   "cell_type": "code",
   "execution_count": null,
   "metadata": {},
   "outputs": [
    {
     "data": {
      "text/plain": [
       "<Figure size 1000x500 with 0 Axes>"
      ]
     },
     "metadata": {},
     "output_type": "display_data"
    },
    {
     "data": {
      "image/png": "[encoded data removed]",
      "text/plain": [
       "<Figure size 1000x600 with 1 Axes>"
      ]
     },
     "metadata": {},
     "output_type": "display_data"
    }
   ],
   "source": [
    "############## Find EVD of the covariance matrix  ##################### \n",
    "\n",
    "cov_mat = pd.read_csv('/media/dataanalyticlab/Drive2/MANSOOR/Dataset/Dist_Cov_Matrices_OpenBHB/Full_matrices/Cov_mat_openbhb_full.csv', header=None)\n",
    "D,Q = np.linalg.eig(cov_mat)\n",
    "\n",
    "fig = plt.figure(figsize=(10,5))\n",
    "eigen_values=D**2/np.sum(D**2)\n",
    "figure=plt.figure(figsize=(10,6))\n",
    "# plt.axes.Axes.set_xscale(1, 'linear')\n",
    "# fig.xaxis.set_ticklabels([0, 10,50,100,500,1000,2000,3000,3200])\n",
    "# fig.xaxis.set_ticks([0, 10,50,100,500,1000,2000,3000,3200])\n",
    "sing_vals=np.arange(3207) + 1\n",
    "plt.plot(sing_vals,D[2:3210], 'b', linewidth=2)\n",
    "plt.yscale(\"linear\")\n",
    "plt.xscale(\"log\")\n",
    "\n",
    "plt.title('Scree Plot')\n",
    "plt.xlabel('Principal Components')\n",
    "plt.ylabel('Eigenvalues')\n",
    "leg = plt.legend(['Eigenvalues from EVD'], loc='best', borderpad=0.3, \n",
    "                 shadow=False,\n",
    "                 markerscale=0.4)\n",
    "leg.get_frame().set_alpha(0.4)\n",
    "\n",
    "plt.plot(45,2303245684.010627, 'o', color='black')\n",
    "plt.plot(73,366789333.1492814, 'o', color='black')\n",
    "\n",
    "# plt.show()\n",
    "plt.savefig('/media/dataanalyticlab/Drive2/MANSOOR/Dataset/OpenBHB/EDA/Scree_plot_pca_openbhb.png')"
   ]
  }
 ],
 "metadata": {
  "language_info": {
   "name": "python"
  },
  "orig_nbformat": 4
 },
 "nbformat": 4,
 "nbformat_minor": 2
}
