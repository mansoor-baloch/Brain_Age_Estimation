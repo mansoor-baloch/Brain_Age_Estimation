{
 "cells": [
  {
   "cell_type": "code",
   "execution_count": 2,
   "metadata": {},
   "outputs": [],
   "source": [
    "import matplotlib.pyplot as plt\n",
    "import nibabel as nib\n",
    "import numpy as np\n",
    "import pandas as pd\n",
    "import seaborn as sns\n",
    "# import torch\n",
    "# from torch import Tensor\n",
    "# from tqdm import tqdm\n",
    "import os\n",
    "import io\n",
    "import glob\n",
    "import math\n",
    "import sklearn\n",
    "import nilearn as nl\n",
    "from sklearn.manifold import TSNE\n",
    "from sklearn.model_selection import train_test_split\n",
    "from sklearn.svm import SVR\n",
    "from sklearn.preprocessing import StandardScaler\n",
    "from sklearn.linear_model import LinearRegression\n",
    "from sklearn.metrics import mean_absolute_error, mean_squared_error \n",
    "from sklearn.svm import LinearSVR\n",
    "from sklearn_rvm import EMRVR"
   ]
  },
  {
   "cell_type": "code",
   "execution_count": 79,
   "metadata": {},
   "outputs": [],
   "source": [
    "# Reading the reduced data matrix and the subject metadata\n",
    "\n",
    "# dataset_name = \"reduced_PCA_openbhb_train_dataset\"\n",
    "# dataset_name = \"openbhb_train_roi_dataset\"\n",
    "dataset_name = \"CAT12_VBM_features_FreeSurfer_Xhemi_features_Quasi_Raw_features_JL_Transform_openbhb_train_dataset\"\n",
    "\n",
    "# train_set_name = \"reduced_kernel_trick_openbhb_train_set_500_components\"\n",
    "# test_set_name = \"reduced_kernel_trick_openbhb_val_set_500_components\"\n",
    "\n",
    "# # MRI_data = np.array(pd.read_csv(\"/media/dataanalyticlab/Drive2/MANSOOR/Dataset/OpenBHB/\" + dataset_name + \".csv\", header=None, usecols=np.arange(1,1797)))\n",
    "X = np.load(\"/media/dataanalyticlab/Drive2/MANSOOR/Dataset/OpenBHB/Reduced_matrices_openbhb/\" + dataset_name + \".npy\")\n",
    "# X_test = np.array(pd.read_csv(\"/media/dataanalyticlab/Drive2/MANSOOR/Dataset/OpenBHB/Reduced_matrices_openbhb/\" + test_set_name + \".csv\", usecols=np.arange(1,501)))\n",
    "\n",
    "\n",
    "# train_metadata = np.array(pd.read_csv('/media/dataanalyticlab/Drive2/MANSOOR/Dataset/openbhb_sub_metadata_k-means_cluster.csv'))\n",
    "# test_metadata = np.array(pd.read_csv('/media/dataanalyticlab/Drive2/MANSOOR/Dataset/OpenBHB/Validation_set/participants.tsv', delimiter=\"\\t\"))\n",
    "# sub_metadata = np.array(pd.read_csv('/media/dataanalyticlab/Drive2/MANSOOR/Dataset/openbhb_sub_metadata_k-means_cluster.csv'))\n",
    "\n",
    "# Y_train = train_metadata[:,2].reshape(-1,1)\n",
    "# Y_test = test_metadata[:756,3].reshape(-1,1)"
   ]
  },
  {
   "cell_type": "code",
   "execution_count": 68,
   "metadata": {},
   "outputs": [],
   "source": [
    "dataset = []\n",
    "Model = []\n",
    "MAE = []\n",
    "MSE = []\n",
    "RMSE = []\n",
    "R_sq = []"
   ]
  },
  {
   "cell_type": "code",
   "execution_count": 80,
   "metadata": {},
   "outputs": [],
   "source": [
    "# Splitting the dataset into the Training set and Test set\n",
    "\n",
    "Y = sub_metadata[:, 2]\n",
    "\n",
    "X_train, X_test, Y_train, Y_test = train_test_split(X, Y, test_size = 0.2, random_state = 0)\n",
    "\n",
    "Y = Y.reshape(-1,1)"
   ]
  },
  {
   "cell_type": "code",
   "execution_count": 31,
   "metadata": {},
   "outputs": [],
   "source": [
    "# Feature Scaling\n",
    "\n",
    "sc_X = StandardScaler()\n",
    "sc_Y = StandardScaler()\n",
    "X = sc_X.fit_transform(X)\n",
    "Y = sc_Y.fit_transform(Y)"
   ]
  },
  {
   "cell_type": "code",
   "execution_count": 81,
   "metadata": {},
   "outputs": [],
   "source": [
    "LR(X_train, Y_train, X_test, Y_test)"
   ]
  },
  {
   "cell_type": "code",
   "execution_count": 82,
   "metadata": {},
   "outputs": [
    {
     "name": "stderr",
     "output_type": "stream",
     "text": [
      "/usr/local/lib/python3.10/dist-packages/sklearn/svm/_base.py:1244: ConvergenceWarning: Liblinear failed to converge, increase the number of iterations.\n",
      "  warnings.warn(\n"
     ]
    }
   ],
   "source": [
    "SVR(X_train, Y_train, X_test, Y_test)"
   ]
  },
  {
   "cell_type": "code",
   "execution_count": 83,
   "metadata": {},
   "outputs": [
    {
     "name": "stderr",
     "output_type": "stream",
     "text": [
      "/usr/local/lib/python3.10/dist-packages/sklearn_rvm/em_rvm.py:324: UserWarning: Hessian not positive definite\n",
      "  warnings.warn(\"Hessian not positive definite\")\n"
     ]
    }
   ],
   "source": [
    "RVR(X_train, Y_train, X_test, Y_test)"
   ]
  },
  {
   "attachments": {},
   "cell_type": "markdown",
   "metadata": {},
   "source": [
    "Linear Regression Implementation"
   ]
  },
  {
   "cell_type": "code",
   "execution_count": 67,
   "metadata": {},
   "outputs": [],
   "source": [
    "def LR(X_train, Y_train, X_test, Y_test):\n",
    "\n",
    "    lm = LinearRegression()\n",
    "\n",
    "    lm.fit(X_train, Y_train)\n",
    "\n",
    "    # print(\"Intercept: {:,.3f}\".format(lm.intercept_))\n",
    "    # print(\"Coefficient: {:,.3f}\".format(lm.coef_[1]))\n",
    "\n",
    "    dataset.append(dataset_name)\n",
    "    Model.append(\"Linear Regression\")\n",
    "    Y_pred = lm.predict(X_test)\n",
    "\n",
    "    MAE.append(round(mean_absolute_error(Y_test, Y_pred), 2))\n",
    "\n",
    "    mse = round(mean_squared_error(Y_test, Y_pred), 2)\n",
    "    MSE.append(mse)\n",
    "    RMSE.append(round(math.sqrt(mse),2))\n",
    "    R_2 = round(sklearn.metrics.r2_score(Y_test, Y_pred),2)\n",
    "    R_sq.append(R_2)\n",
    "\n"
   ]
  },
  {
   "attachments": {},
   "cell_type": "markdown",
   "metadata": {},
   "source": [
    "Support Vector Regression (SVR) Implementation"
   ]
  },
  {
   "cell_type": "code",
   "execution_count": 11,
   "metadata": {},
   "outputs": [],
   "source": [
    "def svr_results(y_test, X_test, fitted_svr_model):\n",
    "    \n",
    "    print(\"C: {}\".format(fitted_svr_model.C))\n",
    "    print(\"Epsilon: {}\".format(fitted_svr_model.epsilon))\n",
    "    \n",
    "    # print(\"Intercept: {:,.3f}\".format(fitted_svr_model.intercept_[0]))\n",
    "    # print(\"Coefficient: {:,.3f}\".format(fitted_svr_model.coef_[0]))\n",
    "    \n",
    "    mae = mean_absolute_error(Y_test, fitted_svr_model.predict(X_test))\n",
    "    print(\"MAE = \", mae)\n",
    "    mse = mean_squared_error(Y_test, fitted_svr_model.predict(X_test))\n",
    "    rmse = math.sqrt(mse)\n",
    "    print(\"RMSE = \", rmse)\n",
    "    \n",
    "    # Plot outputs\n",
    "    # plt.figure(figsize=(10,7))\n",
    "    # # plt.scatter(x=df['rooms'], y=df['cmedv'])\n",
    "    # plt.plot(X_test, fitted_svr_model.predict(X_test), color='red')\n",
    "    # plt.plot(X_test, fitted_svr_model.predict(X_test)+eps, color='black')\n",
    "    # # plt.plot(X_test, fitted_svr_model.predict(X_test)-eps, color='black')\n",
    "    # plt.xlabel('# of Rooms')\n",
    "    # plt.ylabel('House Price (Thousands of Dollars)')\n",
    "    # plt.title('SVR Prediction')\n",
    "    # plt.show()"
   ]
  },
  {
   "cell_type": "code",
   "execution_count": 70,
   "metadata": {},
   "outputs": [],
   "source": [
    "def SVR(X_train, Y_train, X_test, Y_test):\n",
    "    eps = 5\n",
    "    svr = LinearSVR(epsilon=eps, C=0.14, fit_intercept=True)\n",
    "    svr.fit(X_train, Y_train)\n",
    "\n",
    "    # storing the results\n",
    "    dataset.append(dataset_name)\n",
    "    Model.append(\"Linear Support Vector Regression\")\n",
    "    Y_pred = svr.predict(X_test)\n",
    "\n",
    "    MAE.append(round(mean_absolute_error(Y_test, Y_pred), 2))\n",
    "\n",
    "    mse = round(mean_squared_error(Y_test, Y_pred), 2)\n",
    "    MSE.append(mse)\n",
    "    RMSE.append(round(math.sqrt(mse),2))\n",
    "    R_2 = round(sklearn.metrics.r2_score(Y_test, Y_pred),2)\n",
    "    R_sq.append(R_2)\n",
    "\n"
   ]
  },
  {
   "attachments": {},
   "cell_type": "markdown",
   "metadata": {},
   "source": [
    "Revelance Vector Regression (RVR) Implementation"
   ]
  },
  {
   "cell_type": "code",
   "execution_count": 71,
   "metadata": {},
   "outputs": [],
   "source": [
    "def RVR(X_train, Y_train, X_test, Y_test):\n",
    "    \n",
    "    clf = EMRVR(kernel='linear')\n",
    "    clf.fit(X_train, Y_train)\n",
    "\n",
    "    dataset.append(dataset_name)\n",
    "    Model.append(\"Relevance Vector Regression\")\n",
    "    Y_pred = clf.predict(X_test)\n",
    "\n",
    "    MAE.append(round(mean_absolute_error(Y_test, Y_pred), 2))\n",
    "\n",
    "    mse = round(mean_squared_error(Y_test, Y_pred), 2)\n",
    "    MSE.append(mse)\n",
    "    RMSE.append(round(math.sqrt(mse),2))\n",
    "    R_2 = round(sklearn.metrics.r2_score(Y_test, Y_pred),2)\n",
    "    R_sq.append(R_2)\n"
   ]
  },
  {
   "attachments": {},
   "cell_type": "markdown",
   "metadata": {},
   "source": [
    "Model Evaluation Metrics"
   ]
  },
  {
   "cell_type": "code",
   "execution_count": 86,
   "metadata": {},
   "outputs": [],
   "source": [
    "\n",
    "dataset_s = pd.Series(dataset)\n",
    "Model_s = pd.Series(Model)\n",
    "MAE_s = pd.Series(MAE)\n",
    "RMSE_s = pd.Series(RMSE)\n",
    "R_sq_s = pd.Series(R_sq)\n",
    "MSE_s = pd.Series(MSE)\n",
    "\n",
    "\n",
    "evaluation_metrics = pd.DataFrame({\"Dataset\": dataset_s, \"Model\": Model_s, \"RMSE\": RMSE_s, \"MSE\": MSE_s, \"MAE\": MAE_s,  \"R_sq\": R_sq_s})"
   ]
  },
  {
   "cell_type": "code",
   "execution_count": 87,
   "metadata": {},
   "outputs": [
    {
     "data": {
      "text/html": [
       "<div>\n",
       "<style scoped>\n",
       "    .dataframe tbody tr th:only-of-type {\n",
       "        vertical-align: middle;\n",
       "    }\n",
       "\n",
       "    .dataframe tbody tr th {\n",
       "        vertical-align: top;\n",
       "    }\n",
       "\n",
       "    .dataframe thead th {\n",
       "        text-align: right;\n",
       "    }\n",
       "</style>\n",
       "<table border=\"1\" class=\"dataframe\">\n",
       "  <thead>\n",
       "    <tr style=\"text-align: right;\">\n",
       "      <th></th>\n",
       "      <th>Dataset</th>\n",
       "      <th>Model</th>\n",
       "      <th>RMSE</th>\n",
       "      <th>MSE</th>\n",
       "      <th>MAE</th>\n",
       "      <th>R_sq</th>\n",
       "    </tr>\n",
       "  </thead>\n",
       "  <tbody>\n",
       "    <tr>\n",
       "      <th>0</th>\n",
       "      <td>CAT12_VBM_features_Quasi_Raw_features_JL_Trans...</td>\n",
       "      <td>Linear Regression</td>\n",
       "      <td>2354.27</td>\n",
       "      <td>5542568.50</td>\n",
       "      <td>323.12</td>\n",
       "      <td>-25371.09</td>\n",
       "    </tr>\n",
       "    <tr>\n",
       "      <th>1</th>\n",
       "      <td>CAT12_VBM_features_Quasi_Raw_features_JL_Trans...</td>\n",
       "      <td>Linear Support Vector Regression</td>\n",
       "      <td>2798.54</td>\n",
       "      <td>7831804.61</td>\n",
       "      <td>400.38</td>\n",
       "      <td>-35850.48</td>\n",
       "    </tr>\n",
       "    <tr>\n",
       "      <th>2</th>\n",
       "      <td>CAT12_VBM_features_Quasi_Raw_features_JL_Trans...</td>\n",
       "      <td>Relevance Vector Regression</td>\n",
       "      <td>318.37</td>\n",
       "      <td>101358.62</td>\n",
       "      <td>49.45</td>\n",
       "      <td>-462.99</td>\n",
       "    </tr>\n",
       "    <tr>\n",
       "      <th>3</th>\n",
       "      <td>FreeSurfer_Xhemi_features_JL_Transform_openbhb...</td>\n",
       "      <td>Linear Regression</td>\n",
       "      <td>10.36</td>\n",
       "      <td>107.24</td>\n",
       "      <td>8.17</td>\n",
       "      <td>0.51</td>\n",
       "    </tr>\n",
       "    <tr>\n",
       "      <th>4</th>\n",
       "      <td>FreeSurfer_Xhemi_features_JL_Transform_openbhb...</td>\n",
       "      <td>Linear Support Vector Regression</td>\n",
       "      <td>9.25</td>\n",
       "      <td>85.63</td>\n",
       "      <td>7.23</td>\n",
       "      <td>0.61</td>\n",
       "    </tr>\n",
       "    <tr>\n",
       "      <th>5</th>\n",
       "      <td>FreeSurfer_Xhemi_features_JL_Transform_openbhb...</td>\n",
       "      <td>Relevance Vector Regression</td>\n",
       "      <td>9.18</td>\n",
       "      <td>84.25</td>\n",
       "      <td>6.94</td>\n",
       "      <td>0.61</td>\n",
       "    </tr>\n",
       "    <tr>\n",
       "      <th>6</th>\n",
       "      <td>CAT12_VBM_features_FreeSurfer_Xhemi_features_Q...</td>\n",
       "      <td>Linear Regression</td>\n",
       "      <td>2802.16</td>\n",
       "      <td>7852087.96</td>\n",
       "      <td>375.52</td>\n",
       "      <td>-35943.33</td>\n",
       "    </tr>\n",
       "    <tr>\n",
       "      <th>7</th>\n",
       "      <td>CAT12_VBM_features_FreeSurfer_Xhemi_features_Q...</td>\n",
       "      <td>Linear Support Vector Regression</td>\n",
       "      <td>2356.72</td>\n",
       "      <td>5554144.85</td>\n",
       "      <td>319.92</td>\n",
       "      <td>-25424.09</td>\n",
       "    </tr>\n",
       "    <tr>\n",
       "      <th>8</th>\n",
       "      <td>CAT12_VBM_features_FreeSurfer_Xhemi_features_Q...</td>\n",
       "      <td>Relevance Vector Regression</td>\n",
       "      <td>216.86</td>\n",
       "      <td>47026.50</td>\n",
       "      <td>34.21</td>\n",
       "      <td>-214.27</td>\n",
       "    </tr>\n",
       "  </tbody>\n",
       "</table>\n",
       "</div>"
      ],
      "text/plain": [
       "                                             Dataset  \\\n",
       "0  CAT12_VBM_features_Quasi_Raw_features_JL_Trans...   \n",
       "1  CAT12_VBM_features_Quasi_Raw_features_JL_Trans...   \n",
       "2  CAT12_VBM_features_Quasi_Raw_features_JL_Trans...   \n",
       "3  FreeSurfer_Xhemi_features_JL_Transform_openbhb...   \n",
       "4  FreeSurfer_Xhemi_features_JL_Transform_openbhb...   \n",
       "5  FreeSurfer_Xhemi_features_JL_Transform_openbhb...   \n",
       "6  CAT12_VBM_features_FreeSurfer_Xhemi_features_Q...   \n",
       "7  CAT12_VBM_features_FreeSurfer_Xhemi_features_Q...   \n",
       "8  CAT12_VBM_features_FreeSurfer_Xhemi_features_Q...   \n",
       "\n",
       "                              Model     RMSE         MSE     MAE      R_sq  \n",
       "0                 Linear Regression  2354.27  5542568.50  323.12 -25371.09  \n",
       "1  Linear Support Vector Regression  2798.54  7831804.61  400.38 -35850.48  \n",
       "2       Relevance Vector Regression   318.37   101358.62   49.45   -462.99  \n",
       "3                 Linear Regression    10.36      107.24    8.17      0.51  \n",
       "4  Linear Support Vector Regression     9.25       85.63    7.23      0.61  \n",
       "5       Relevance Vector Regression     9.18       84.25    6.94      0.61  \n",
       "6                 Linear Regression  2802.16  7852087.96  375.52 -35943.33  \n",
       "7  Linear Support Vector Regression  2356.72  5554144.85  319.92 -25424.09  \n",
       "8       Relevance Vector Regression   216.86    47026.50   34.21   -214.27  "
      ]
     },
     "execution_count": 87,
     "metadata": {},
     "output_type": "execute_result"
    }
   ],
   "source": [
    "evaluation_metrics"
   ]
  },
  {
   "cell_type": "code",
   "execution_count": 59,
   "metadata": {},
   "outputs": [],
   "source": [
    "evaluation_metrics.to_csv(\"/media/dataanalyticlab/Drive2/MANSOOR/Dataset/OpenBHB/Results/Regression/Regression_results_pca_with_subsets_and_combined_features_train.csv\")"
   ]
  },
  {
   "attachments": {},
   "cell_type": "markdown",
   "metadata": {},
   "source": [
    "Vary C (find the best value for C)"
   ]
  },
  {
   "cell_type": "code",
   "execution_count": null,
   "metadata": {},
   "outputs": [],
   "source": [
    "test_mae_list = []\n",
    "perc_within_eps_list = []\n",
    "\n",
    "eps = 5\n",
    "c_space = np.linspace(0.01, 10)\n",
    "\n",
    "for c in c_space:\n",
    "    varied_svr = LinearSVR(epsilon=eps, C=c, fit_intercept=True, max_iter=10000)\n",
    "    \n",
    "    varied_svr.fit(X_train, Y_train)\n",
    "    \n",
    "    test_mae = mean_absolute_error(Y_test, varied_svr.predict(X_test))\n",
    "    test_mae_list.append(test_mae)\n",
    "    \n",
    "    perc_within_eps = 100*np.sum(abs(Y_test-varied_svr.predict(X_test)) <= eps) / len(Y_test)\n",
    "    perc_within_eps_list.append(perc_within_eps)"
   ]
  }
 ],
 "metadata": {
  "kernelspec": {
   "display_name": "Python 3",
   "language": "python",
   "name": "python3"
  },
  "language_info": {
   "codemirror_mode": {
    "name": "ipython",
    "version": 3
   },
   "file_extension": ".py",
   "mimetype": "text/x-python",
   "name": "python",
   "nbconvert_exporter": "python",
   "pygments_lexer": "ipython3",
   "version": "3.10.6"
  },
  "orig_nbformat": 4,
  "vscode": {
   "interpreter": {
    "hash": "916dbcbb3f70747c44a77c7bcd40155683ae19c65e1c03b4aa3499c5328201f1"
   }
  }
 },
 "nbformat": 4,
 "nbformat_minor": 2
}
