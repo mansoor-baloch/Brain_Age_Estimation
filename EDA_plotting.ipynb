{
 "cells": [
  {
   "cell_type": "code",
   "execution_count": 1,
   "metadata": {},
   "outputs": [
    {
     "name": "stderr",
     "output_type": "stream",
     "text": [
      "/usr/local/lib/python3.10/dist-packages/nilearn/input_data/__init__.py:27: FutureWarning: The import path 'nilearn.input_data' is deprecated in version 0.9. Importing from 'nilearn.input_data' will be possible at least until release 0.13.0. Please import from 'nilearn.maskers' instead.\n",
      "  warnings.warn(message, FutureWarning)\n"
     ]
    }
   ],
   "source": [
    "from argparse import Namespace\n",
    "\n",
    "import matplotlib.pyplot as plt\n",
    "import nibabel as nib\n",
    "import numpy as np\n",
    "import pandas as pd\n",
    "import seaborn as sns\n",
    "import os\n",
    "import glob\n",
    "import sklearn\n",
    "import nilearn as nl\n",
    "from sklearn.manifold import TSNE\n",
    "import re\n",
    "from nilearn.input_data import NiftiMasker\n",
    "from sklearn.cluster import KMeans\n",
    "import math \n",
    "from numpy import dot\n",
    "from numpy.linalg import norm\n",
    "import time"
   ]
  },
  {
   "cell_type": "code",
   "execution_count": 3,
   "metadata": {},
   "outputs": [],
   "source": [
    "participants = pd.read_csv('/media/dataanalyticlab/Drive2/MANSOOR/Dataset/OpenBHB/train/train_labels/participants.tsv', sep=\"\\t\")  \n",
    "age_gender = participants.loc[:, [\"age\", \"sex\"]]\n",
    "duplicates = participants[\"participant_id\"][participants[\"participant_id\"].isin(participants[\"participant_id\"][participants[\"participant_id\"].duplicated()])]\n"
   ]
  },
  {
   "cell_type": "code",
   "execution_count": 4,
   "metadata": {},
   "outputs": [],
   "source": [
    "def loadFileNames(path, type):\n",
    "    return  glob.glob(os.path.join(path, type))\n"
   ]
  },
  {
   "cell_type": "code",
   "execution_count": 11,
   "metadata": {},
   "outputs": [],
   "source": [
    "def laodFiles(files):\n",
    "    i=0\n",
    "    sub_info = pd.DataFrame(dtype=float)\n",
    "    feat_set = np.load(files[0])\n",
    "    for file in files:\n",
    "        file_i = np.load(file)\n",
    "        id = re.search(\"sub-(.*)_prep\", file)\n",
    "        id = round(int(id.group(1)), -6)\n",
    "        age = participants[\"age\"].loc[participants['participant_id'] == id]\n",
    "        age = age.astype(float)\n",
    "        if id not in duplicates.values:\n",
    "            sub_info = sub_info.append([[id,age.values]], ignore_index=True)\n",
    "            feat_set = np.concatenate((feat_set, file_i))\n",
    "        i = i+1\n",
    "\n",
    "        if i==1100:\n",
    "            break\n",
    "    \n",
    "    sub_info.iloc[:, 1] = sub_info.iloc[:,1].astype(float)\n",
    "    return feat_set, sub_info"
   ]
  },
  {
   "attachments": {},
   "cell_type": "markdown",
   "metadata": {},
   "source": [
    "T-SNE projection of the feature matrix with k-means age clusters"
   ]
  },
  {
   "cell_type": "code",
   "execution_count": 33,
   "metadata": {},
   "outputs": [],
   "source": [
    "# sub_metadata = pd.read_csv('/media/dataanalyticlab/Drive2/MANSOOR/Dataset/openbhb_sub_metadata_k-means_cluster.csv')\n",
    "# reduced_train_matrix = pd.read_csv('/media/dataanalyticlab/Drive2/MANSOOR/Dataset/OpenBHB/Reduced_matrices_openbhb/openbhb_train_roi_dataset.csv', header=None, usecols=np.arange(1,1797))\n",
    "reduced_train_matrix = np.load(\"/media/dataanalyticlab/Drive2/MANSOOR/Dataset/OpenBHB/Reduced_matrices_openbhb/CAT12_VBM_features_Quasi_Raw_features_PCA_openbhb_train_dataset.npy\")\n",
    "reduced_train_matrix = pd.DataFrame(reduced_train_matrix)\n"
   ]
  },
  {
   "cell_type": "code",
   "execution_count": 14,
   "metadata": {},
   "outputs": [],
   "source": [
    "tsne = pd.DataFrame(np.load(\"/media/dataanalyticlab/Drive2/MANSOOR/Dataset/OpenBHB/Reduced_matrices_openbhb/reduced_tSNE_openbhb_train_dataset.npy\"))"
   ]
  },
  {
   "cell_type": "code",
   "execution_count": 34,
   "metadata": {},
   "outputs": [
    {
     "name": "stdout",
     "output_type": "stream",
     "text": [
      "Perplexity =  50\n",
      "Perplexity =  100\n",
      "Perplexity =  150\n",
      "Perplexity =  200\n",
      "Perplexity =  250\n",
      "Perplexity =  300\n",
      "Perplexity =  350\n",
      "Perplexity =  400\n",
      "Perplexity =  450\n"
     ]
    }
   ],
   "source": [
    "k = 3\n",
    "# findAgeClusters(sub_metadata, k)\n",
    "# clusters = findClusterIntervals(sub_metadata , k)\n",
    "for i in range(50,500, 50):\n",
    "    tsne = findTSNEcomp(reduced_train_matrix, sub_metadata, perplexity=i, k=3)\n",
    "    print(\"Perplexity = \", i)\n",
    "    fig = PlotTSNE(tsne, k)\n",
    "    # plt.show()\n",
    "    \n",
    "    fig.savefig(\"/media/dataanalyticlab/Drive2/MANSOOR/Dataset/OpenBHB/EDA/tSNE_openbhb/PCA_1000_components/tsne_quasiraw_cat12_1000-pca_\"+str(i)+\"-perp_\"+str(k)+\"-clusters.png\")\n",
    "    plt.close(fig)\n"
   ]
  },
  {
   "cell_type": "code",
   "execution_count": 24,
   "metadata": {},
   "outputs": [],
   "source": [
    "# plot tsne projection of the tsne components derived already \n",
    "tsne_feat = pd.DataFrame()\n",
    "tsne_feat[\"Cluster_ID\"] = sub_metadata.loc[:, \"Cluster_ID(\" + str(k)+\"-means)\"]\n",
    "tsne_feat[\"age-cluster\"] = sub_metadata.loc[:, \"age-interval(\" + str(k)+\"-means)\"]\n",
    "tsne_feat[\"Age\"] = sub_metadata.iloc[:, 2]\n",
    "tsne_feat[\"comp-1\"] = tsne.iloc[:,0]\n",
    "tsne_feat[\"comp-2\"] = tsne.iloc[:,1]\n",
    "fig = PlotTSNE(tsne_feat,4)\n",
    "fig.savefig(\"/media/dataanalyticlab/Drive2/MANSOOR/Dataset/OpenBHB/EDA/tSNE_openbhb/PCA_1000_components/tsne_reduced_\"+str(i)+\"-perp_\"+str(k)+\"-clusters.png\")\n",
    "plt.close(fig)\n"
   ]
  },
  {
   "cell_type": "code",
   "execution_count": 92,
   "metadata": {},
   "outputs": [],
   "source": [
    "def findAgeClusters(sub_info, k):\n",
    "    kmeans = KMeans(k)\n",
    "    ages = np.array(sub_info.iloc[:,1])\n",
    "    ages = ages.reshape(ages.shape[0],-1)\n",
    "    clusters = kmeans.fit_predict(ages)\n",
    "    sub_info[\"Cluster_ID(\"+str(k)+ \"-means)\"] = clusters"
   ]
  },
  {
   "cell_type": "code",
   "execution_count": 104,
   "metadata": {},
   "outputs": [],
   "source": [
    "def findClusterIntervals(sub_info, k):\n",
    "    intervals = sub_info.groupby(\"Cluster_ID(\"+str(k)+ \"-means)\").agg(Min_Age=(1, 'min'),\n",
    "    Max_Age=(1, 'max'),Mean_Age=(1, 'mean'), Frequency=(1,\"count\")).reset_index()\n",
    "    intervals.iloc[:,:3] = round(intervals.iloc[:,:3], 2).astype(int)\n",
    "    mapping = {0: str(intervals.iloc[0,1]) + \" - \" + str(intervals.iloc[0,2]), \n",
    "    1: str(intervals.iloc[1,1]) + \" - \" + str(intervals.iloc[1,2]),\n",
    "    2: str(intervals.iloc[2,1]) + \" - \" + str(intervals.iloc[2,2]),\n",
    "    3: str(intervals.iloc[3,1]) + \" - \" + str(intervals.iloc[3,2]),\n",
    "    4: str(intervals.iloc[4,1]) + \" - \" + str(intervals.iloc[4,2]),\n",
    "    5: str(intervals.iloc[5,1]) + \" - \" + str(intervals.iloc[5,2]),\n",
    "    6: str(intervals.iloc[6,1]) + \" - \" + str(intervals.iloc[6,2]),\n",
    "    7: str(intervals.iloc[7,1]) + \" - \" + str(intervals.iloc[7,2])\n",
    "    }\n",
    "    cluster = [mapping[i] for i in sub_info[\"Cluster_ID(\"+str(k)+ \"-means)\"]]\n",
    "    sub_info[\"age-interval(\"+str(k)+ \"-means)\"] = cluster\n",
    "    return intervals\n",
    "    \n",
    "    "
   ]
  },
  {
   "cell_type": "code",
   "execution_count": 22,
   "metadata": {},
   "outputs": [],
   "source": [
    "def findTSNEcomp(features, sub_info, perplexity, k):\n",
    "    tsne = TSNE(n_components=2, perplexity=perplexity)\n",
    "    tsne = tsne.fit_transform(features)\n",
    "    tsne_feat = pd.DataFrame()\n",
    "    tsne_feat[\"Cluster_ID\"] = sub_metadata.loc[:, \"Cluster_ID(\" + str(k)+\"-means)\"]\n",
    "    tsne_feat[\"age-cluster\"] = sub_metadata.loc[:, \"age-interval(\" + str(k)+\"-means)\"]\n",
    "    tsne_feat[\"Age\"] = sub_metadata.iloc[:, 2].astype(int)\n",
    "    tsne_feat[\"comp-1\"] = tsne[:,0]\n",
    "    tsne_feat[\"comp-2\"] = tsne[:,1]\n",
    "    return tsne_feat\n",
    "     "
   ]
  },
  {
   "cell_type": "code",
   "execution_count": 5,
   "metadata": {},
   "outputs": [],
   "source": [
    "def PlotTSNE(tsne, k):\n",
    "    tsne_sort = tsne.sort_values(by=\"Age\")\n",
    "    fig = plt.figure()\n",
    "    sns.scatterplot(x=\"comp-1\", y=\"comp-2\", hue=tsne_sort.loc[:, \"age-cluster\"],\n",
    "     color=[\"r\", \"g\", \"b\", \"y\"], palette=sns.color_palette(\"hls\", k), \n",
    "                data=tsne_sort.loc[:, [\"comp-1\", \"comp-2\"]])\n",
    "    return fig\n"
   ]
  },
  {
   "cell_type": "code",
   "execution_count": 5,
   "metadata": {},
   "outputs": [],
   "source": [
    "path = '/media/dataanalyticlab/Drive2/MANSOOR/Dataset/OpenBHB/train/train_fsl/'\n",
    "files = loadFileNames(path, \"*xhemi_T1w.npy\")\n",
    "# features, subjects = laodFiles(files)\n",
    "# feature_set = pd.DataFrame(features.reshape(features.shape[0],-1)).iloc[1:,:]\n",
    "# subjects_subset1 = subjects\n",
    "# tsne = TSNE(n_components=2, perplexity=7)\n",
    "# tsne_subset1 = tsne.fit_transform(feature_set)\n",
    "# findAgeClusters(5,subjects)\n",
    "# clusters = findClusterIntervals(subjects)\n",
    "# tsne = findTSNEcomp(feature_set, subjects)\n",
    "# PlotTSNE(tsne, 5)"
   ]
  }
 ],
 "metadata": {
  "kernelspec": {
   "display_name": "Python 3",
   "language": "python",
   "name": "python3"
  },
  "language_info": {
   "codemirror_mode": {
    "name": "ipython",
    "version": 3
   },
   "file_extension": ".py",
   "mimetype": "text/x-python",
   "name": "python",
   "nbconvert_exporter": "python",
   "pygments_lexer": "ipython3",
   "version": "3.10.6"
  },
  "orig_nbformat": 4,
  "vscode": {
   "interpreter": {
    "hash": "31f2aee4e71d21fbe5cf8b01ff0e069b9275f58929596ceb00d14d90e3e16cd6"
   }
  }
 },
 "nbformat": 4,
 "nbformat_minor": 2
}
